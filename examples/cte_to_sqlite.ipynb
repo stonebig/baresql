{
 "metadata": {
  "name": ""
 },
 "nbformat": 3,
 "nbformat_minor": 0,
 "worksheets": [
  {
   "cells": [
    {
     "cell_type": "markdown",
     "metadata": {},
     "source": [
      "#'cte_to_sqlite.py' transform a \"CTE\" SQLs into \"Sqlite\" SQLs :#\n",
      "\n",
      "- SQL queries on your python variables (numbers, strings, lists, tuples, range, dictionnary),\n",
      "\n",
      "- Common Table Expressions (CTE) on SQLite. \n",
      "\n",
      "- usage on the commande line : \n",
      "\n",
      "   python cte_to_sqlite -i inputfile [-o outputfile] [-v]\n",
      "   \n",
      "    \n",
      "- usage as a function : \n",
      "\n",
      "   cte_to_sqlite(sql)   \n"
     ]
    },
    {
     "cell_type": "code",
     "collapsed": false,
     "input": [
      "%load https://raw.github.com/stonebig/baresql/master/examples/cte_to_sqlite.py"
     ],
     "language": "python",
     "metadata": {},
     "outputs": [],
     "prompt_number": 1
    },
    {
     "cell_type": "code",
     "collapsed": false,
     "input": [
      "print(cte_to_sqlite(\"\"\"\n",
      "with x as (yy)\n",
      "   , a as (select * from x)\n",
      " select * from a\n",
      "\"\"\"))"
     ],
     "language": "python",
     "metadata": {},
     "outputs": [
      {
       "output_type": "stream",
       "stream": "stdout",
       "text": [
        "select * from (select * from (yy) as x ) as a \n",
        "\n"
       ]
      }
     ],
     "prompt_number": 4
    },
    {
     "cell_type": "code",
     "collapsed": false,
     "input": [
      "print(cte_to_sqlite(\"\"\"\n",
      "with x as (yy)\n",
      "   , a as (select * from x)\n",
      " select * from a\n",
      "\"\"\", False))"
     ],
     "language": "python",
     "metadata": {},
     "outputs": [
      {
       "output_type": "stream",
       "stream": "stdout",
       "text": [
        "DROP VIEW IF EXISTS x;\n",
        "create temp view x as yy;\n",
        "DROP VIEW IF EXISTS a;\n",
        "create temp view a as select * from x;\n",
        "select * from a\n",
        "\n"
       ]
      }
     ],
     "prompt_number": 5
    },
    {
     "cell_type": "code",
     "collapsed": false,
     "input": [
      "# nota : if the CTE has its column redefined, a temporary table is created\n",
      "print(cte_to_sqlite(\"\"\"\n",
      "with x as (yy)\n",
      "   , a(z) as (select * from x)\n",
      " select * from a\n",
      "\"\"\"))"
     ],
     "language": "python",
     "metadata": {},
     "outputs": [
      {
       "output_type": "stream",
       "stream": "stdout",
       "text": [
        "DROP TABLE IF EXISTS a;\n",
        "create temp table a(z);\n",
        "insert into  a select * from (yy) as x ;\n",
        "select * from a\n",
        "\n"
       ]
      }
     ],
     "prompt_number": 6
    },
    {
     "cell_type": "code",
     "collapsed": false,
     "input": [],
     "language": "python",
     "metadata": {},
     "outputs": []
    }
   ],
   "metadata": {}
  }
 ]
}