{
 "metadata": {
  "name": ""
 },
 "nbformat": 3,
 "nbformat_minor": 0,
 "worksheets": [
  {
   "cells": [
    {
     "cell_type": "markdown",
     "metadata": {},
     "source": [
      "'baresql.py' brings :\n",
      "\n",
      "- SQL queries on your python variables (numbers, strings, lists, tuples, range, dictionnary),\n",
      "\n",
      "- Common Table Expressions (CTE) on SQLite. \n",
      "\n",
      "There is no need of additionnal module if you have Winpython (only Pandas is needed)\n",
      "\n",
      " * Step1 : include the 'baresql.py' class in your project, or load it in your notebook"
     ]
    },
    {
     "cell_type": "code",
     "collapsed": false,
     "input": [
      "%load https://raw.github.com/stonebig/baresql/master/baresql/baresql.py"
     ],
     "language": "python",
     "metadata": {},
     "outputs": [],
     "prompt_number": 1
    },
    {
     "cell_type": "markdown",
     "metadata": {},
     "source": [
      " * Step2 : experiment the following examples\n",
      " \n",
      "    . <b>basic usage</b> (result in a pandas dataframe)\n",
      "    \n",
      "    . <b>multiple sql</b> (result in a list of tuples)\n",
      "    \n",
      "    . <b>Common Table Expression</b> (result in a list of integers)"
     ]
    },
    {
     "cell_type": "code",
     "collapsed": false,
     "input": [
      "#basic example \n",
      "user = [(i, \"user N\u00b0\"+str(i)) for i in range(5)]\n",
      "limit = 2 \n",
      "sql = \"select c0 as number, c1 as name from user$$ where c0 <= $limit\"\n",
      "bsqldf(sql)"
     ],
     "language": "python",
     "metadata": {},
     "outputs": [
      {
       "html": [
        "<div style=\"max-height:1000px;max-width:1500px;overflow:auto;\">\n",
        "<table border=\"1\" class=\"dataframe\">\n",
        "  <thead>\n",
        "    <tr style=\"text-align: right;\">\n",
        "      <th></th>\n",
        "      <th>number</th>\n",
        "      <th>name</th>\n",
        "    </tr>\n",
        "  </thead>\n",
        "  <tbody>\n",
        "    <tr>\n",
        "      <th>0</th>\n",
        "      <td> 0</td>\n",
        "      <td> user N\u00b00</td>\n",
        "    </tr>\n",
        "    <tr>\n",
        "      <th>1</th>\n",
        "      <td> 1</td>\n",
        "      <td> user N\u00b01</td>\n",
        "    </tr>\n",
        "    <tr>\n",
        "      <th>2</th>\n",
        "      <td> 2</td>\n",
        "      <td> user N\u00b02</td>\n",
        "    </tr>\n",
        "  </tbody>\n",
        "</table>\n",
        "</div>"
       ],
       "metadata": {},
       "output_type": "pyout",
       "prompt_number": 3,
       "text": [
        "   number      name\n",
        "0       0  user N\u00b00\n",
        "1       1  user N\u00b01\n",
        "2       2  user N\u00b02"
       ]
      }
     ],
     "prompt_number": 3
    },
    {
     "cell_type": "code",
     "collapsed": false,
     "input": [
      "##multiple-sql example\n",
      "bsqlrows('''\n",
      "drop table if exists winner;\n",
      "create table winner as select * from user$$ where c0 > $limit ;\n",
      "select * from winner\n",
      "''')"
     ],
     "language": "python",
     "metadata": {},
     "outputs": [
      {
       "metadata": {},
       "output_type": "pyout",
       "prompt_number": 4,
       "text": [
        "[(0.0, 'user N\u00b00'), (1.0, 'user N\u00b01'), (2.0, 'user N\u00b02')]"
       ]
      }
     ],
     "prompt_number": 4
    },
    {
     "cell_type": "code",
     "collapsed": false,
     "input": [
      "# Common Table Expressions (CTE) in SQLite !?! : The 100 first Prime example\n",
      "\n",
      "#reinitialize baresql with the tracing system ON\n",
      "bsql=baresql(keep_log = True )\n",
      "\n",
      "ints=[ i for i in range(2,100)]\n",
      "sql=\"\"\"\n",
      "with \n",
      "   -- load python object 'int' into sql table 'i'\n",
      "   i as (select cast(c0 as INTEGER) as n from ints$$), \n",
      "   \n",
      "   /* find all integers N with a divisor \n",
      "      (limiting the search to sqrt(N) ) */\n",
      "   non_primes as (select distinct i.n \n",
      "                  from i inner join i as j on i.n>=j.n*j.n \n",
      "                  where round(i.n/j.n)*j.n = i.n )\n",
      "\n",
      "-- Prime numbers are integers without a divisor    \n",
      "select * from i where n not in (select * from non_primes)\n",
      "\"\"\" \n",
      "print(\"\\n\",bsqlcolumn(sql))"
     ],
     "language": "python",
     "metadata": {},
     "outputs": [
      {
       "output_type": "stream",
       "stream": "stdout",
       "text": [
        "\n",
        " [2, 3, 5, 7, 11, 13, 17, 19, 23, 29, 31, 37, 41, 43, 47, 53, 59, 61, 67, 71, 73, 79, 83, 89, 97]\n"
       ]
      }
     ],
     "prompt_number": 5
    },
    {
     "cell_type": "code",
     "collapsed": false,
     "input": [
      "#show the workaround that allows the Common Expression Table in SQLite :\n",
      "print(\"\\n\".join(bsql.log))"
     ],
     "language": "python",
     "metadata": {},
     "outputs": [
      {
       "output_type": "stream",
       "stream": "stdout",
       "text": [
        "DROP TABLE IF EXISTS [ints$$]\n",
        "(pandas) create table [ints$$] ...\n",
        "(pandas) INSERT INTO [ints$$] VALUES (?)\n",
        "select * from (select cast(c0 as INTEGER) as n from ints$$) as i  where n not in (select * from (select distinct i.n \n",
        "                  from (select cast(c0 as INTEGER) as n from ints$$) as i  inner join (select cast(c0 as INTEGER) as n from ints$$)    as j on i.n>=j.n*j.n \n",
        "                  where round(i.n/j.n)*j.n = i.n ) as non_primes )\n",
        "\n",
        "DROP TABLE IF EXISTS [ints]\n"
       ]
      }
     ],
     "prompt_number": 6
    },
    {
     "cell_type": "code",
     "collapsed": false,
     "input": [],
     "language": "python",
     "metadata": {},
     "outputs": [],
     "prompt_number": 22
    },
    {
     "cell_type": "code",
     "collapsed": false,
     "input": [],
     "language": "python",
     "metadata": {},
     "outputs": []
    }
   ],
   "metadata": {}
  }
 ]
}